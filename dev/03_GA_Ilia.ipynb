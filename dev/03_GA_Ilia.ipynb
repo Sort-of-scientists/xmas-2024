{
 "cells": [
  {
   "cell_type": "code",
   "execution_count": 6,
   "metadata": {},
   "outputs": [],
   "source": [
    "import itertools\n",
    "import numpy as np\n",
    "import pandas as pd\n",
    "\n",
    "from typing import List\n",
    "from datetime import datetime, timedelta\n",
    "from tqdm.notebook import tqdm\n"
   ]
  },
  {
   "cell_type": "code",
   "execution_count": 7,
   "metadata": {},
   "outputs": [],
   "source": [
    "class Provider:\n",
    "\n",
    "    def __init__(self, id: int, commission: float, conversion: float, processing_time: float):\n",
    "        self.id = id\n",
    "        \n",
    "        self.commission = commission\n",
    "        self.conversion = conversion\n",
    "        self.processing_time = processing_time\n",
    "\n",
    "    def __repr__(self):\n",
    "        return f\"P{self.id}\"\n"
   ]
  },
  {
   "cell_type": "code",
   "execution_count": 8,
   "metadata": {},
   "outputs": [],
   "source": [
    "payments = pd.read_csv(\"data/payments_1.csv\")\n",
    "\n",
    "payments.eventTimeRes = pd.to_datetime(payments.eventTimeRes)\n",
    "payments = payments.sort_values(by=\"eventTimeRes\")\n",
    "\n",
    "\n",
    "providers = pd.read_csv(\"data/providers_1.csv\")\n",
    "providers.TIME = pd.to_datetime(providers.TIME)\n",
    "\n",
    "providers = providers.sort_values(by=\"TIME\")\n",
    "providers = providers.drop_duplicates(subset=[\"TIME\", \"ID\"], keep=\"last\")\n",
    "\n",
    "providers.index = range(len(providers))\n"
   ]
  },
  {
   "cell_type": "code",
   "execution_count": 9,
   "metadata": {},
   "outputs": [],
   "source": [
    "def get_available_providers(transaction: pd.Series) -> List[Provider]:\n",
    "    mask = (providers.CURRENCY == transaction[\"cur\"]) & \\\n",
    "           (transaction[\"amount\"] >= providers.MIN_SUM) & \\\n",
    "           (transaction[\"amount\"] <= providers.MAX_SUM)\n",
    "    \n",
    "    available_providers = providers.copy()[mask].drop_duplicates(\"ID\")\n",
    "    \n",
    "    providers_objects: List[Provider] = []\n",
    "    for k, row in available_providers.drop_duplicates(subset=[\"ID\"]).iterrows():\n",
    "       providers_objects.append(\n",
    "              Provider(\n",
    "              id=k + 1,\n",
    "              commission=row[\"COMMISSION\"],\n",
    "              conversion=row[\"CONVERSION\"],\n",
    "              processing_time=row[\"AVG_TIME\"]\n",
    "              )\n",
    "       )\n",
    "\n",
    "    return providers_objects\n"
   ]
  },
  {
   "cell_type": "code",
   "execution_count": 10,
   "metadata": {},
   "outputs": [],
   "source": [
    "def compute_expected_processing_time(chain: List[Provider]) -> float:\n",
    "    probas, values = [], []\n",
    "\n",
    "    for k in range(len(chain)):\n",
    "        multiplication = np.prod([1 - provider.conversion for provider in chain[:k]])\n",
    "\n",
    "        probas.append(multiplication * chain[k].conversion)\n",
    "\n",
    "        values.append(np.sum([provider.processing_time for provider in chain[:k + 1]]))\n",
    "\n",
    "    probas, values = np.array(probas), np.array(values)\n",
    "\n",
    "    return probas.dot(values)\n",
    "\n",
    "\n",
    "def compute_expected_conversion(chain: List[Provider]) -> float:\n",
    "    return 1 - np.prod([1 - provider.conversion for provider in chain])\n",
    "\n",
    "\n",
    "def compute_expected_commission(chain: List[Provider]) -> float:\n",
    "    probas, values = [], []\n",
    "\n",
    "    for k in range(len(chain)):\n",
    "        multiplication = np.prod([1 - provider.conversion for provider in chain[:k]])\n",
    "\n",
    "        probas.append(multiplication * chain[k].conversion)\n",
    "        values.append(chain[k].commission)\n",
    "\n",
    "    probas, values = np.array(probas), np.array(values)\n",
    "\n",
    "    return probas.dot(values)\n"
   ]
  },
  {
   "cell_type": "code",
   "execution_count": null,
   "metadata": {},
   "outputs": [
    {
     "data": {
      "application/vnd.jupyter.widget-view+json": {
       "model_id": "d2e5946fee1e4c1a92a28308004dbbb7",
       "version_major": 2,
       "version_minor": 0
      },
      "text/plain": [
       "  0%|          | 0/193978 [00:00<?, ?it/s]"
      ]
     },
     "metadata": {},
     "output_type": "display_data"
    },
    {
     "ename": "KeyboardInterrupt",
     "evalue": "",
     "output_type": "error",
     "traceback": [
      "\u001b[1;31m---------------------------------------------------------------------------\u001b[0m",
      "\u001b[1;31mKeyboardInterrupt\u001b[0m                         Traceback (most recent call last)",
      "Cell \u001b[1;32mIn[11], line 4\u001b[0m\n\u001b[0;32m      1\u001b[0m all_available_providers \u001b[38;5;241m=\u001b[39m []\n\u001b[0;32m      3\u001b[0m \u001b[38;5;28;01mfor\u001b[39;00m k \u001b[38;5;129;01min\u001b[39;00m tqdm(\u001b[38;5;28mrange\u001b[39m(\u001b[38;5;28mlen\u001b[39m(payments))):\n\u001b[1;32m----> 4\u001b[0m     available_providers \u001b[38;5;241m=\u001b[39m \u001b[43mget_available_providers\u001b[49m\u001b[43m(\u001b[49m\u001b[43mpayments\u001b[49m\u001b[38;5;241;43m.\u001b[39;49m\u001b[43miloc\u001b[49m\u001b[43m[\u001b[49m\u001b[43mk\u001b[49m\u001b[43m]\u001b[49m\u001b[43m)\u001b[49m\n\u001b[0;32m      6\u001b[0m     all_available_providers\u001b[38;5;241m.\u001b[39mappend(available_providers)\n",
      "Cell \u001b[1;32mIn[9], line 6\u001b[0m, in \u001b[0;36mget_available_providers\u001b[1;34m(transaction)\u001b[0m\n\u001b[0;32m      1\u001b[0m \u001b[38;5;28;01mdef\u001b[39;00m \u001b[38;5;21mget_available_providers\u001b[39m(transaction: pd\u001b[38;5;241m.\u001b[39mSeries) \u001b[38;5;241m-\u001b[39m\u001b[38;5;241m>\u001b[39m List[Provider]:\n\u001b[0;32m      2\u001b[0m     mask \u001b[38;5;241m=\u001b[39m (providers\u001b[38;5;241m.\u001b[39mCURRENCY \u001b[38;5;241m==\u001b[39m transaction[\u001b[38;5;124m\"\u001b[39m\u001b[38;5;124mcur\u001b[39m\u001b[38;5;124m\"\u001b[39m]) \u001b[38;5;241m&\u001b[39m \\\n\u001b[0;32m      3\u001b[0m            (transaction[\u001b[38;5;124m\"\u001b[39m\u001b[38;5;124mamount\u001b[39m\u001b[38;5;124m\"\u001b[39m] \u001b[38;5;241m>\u001b[39m\u001b[38;5;241m=\u001b[39m providers\u001b[38;5;241m.\u001b[39mMIN_SUM) \u001b[38;5;241m&\u001b[39m \\\n\u001b[0;32m      4\u001b[0m            (transaction[\u001b[38;5;124m\"\u001b[39m\u001b[38;5;124mamount\u001b[39m\u001b[38;5;124m\"\u001b[39m] \u001b[38;5;241m<\u001b[39m\u001b[38;5;241m=\u001b[39m providers\u001b[38;5;241m.\u001b[39mMAX_SUM)\n\u001b[1;32m----> 6\u001b[0m     available_providers \u001b[38;5;241m=\u001b[39m \u001b[43mproviders\u001b[49m\u001b[38;5;241;43m.\u001b[39;49m\u001b[43mcopy\u001b[49m\u001b[43m(\u001b[49m\u001b[43m)\u001b[49m[mask]\u001b[38;5;241m.\u001b[39mdrop_duplicates(\u001b[38;5;124m\"\u001b[39m\u001b[38;5;124mID\u001b[39m\u001b[38;5;124m\"\u001b[39m)\n\u001b[0;32m      8\u001b[0m     providers_objects: List[Provider] \u001b[38;5;241m=\u001b[39m []\n\u001b[0;32m      9\u001b[0m     \u001b[38;5;28;01mfor\u001b[39;00m k, row \u001b[38;5;129;01min\u001b[39;00m available_providers\u001b[38;5;241m.\u001b[39mdrop_duplicates(subset\u001b[38;5;241m=\u001b[39m[\u001b[38;5;124m\"\u001b[39m\u001b[38;5;124mID\u001b[39m\u001b[38;5;124m\"\u001b[39m])\u001b[38;5;241m.\u001b[39miterrows():\n",
      "File \u001b[1;32m~\\AppData\\Roaming\\Python\\Python310\\site-packages\\pandas\\core\\generic.py:6368\u001b[0m, in \u001b[0;36mNDFrame.copy\u001b[1;34m(self, deep)\u001b[0m\n\u001b[0;32m   6258\u001b[0m \u001b[38;5;129m@final\u001b[39m\n\u001b[0;32m   6259\u001b[0m \u001b[38;5;28;01mdef\u001b[39;00m \u001b[38;5;21mcopy\u001b[39m(\u001b[38;5;28mself\u001b[39m: NDFrameT, deep: bool_t \u001b[38;5;241m|\u001b[39m \u001b[38;5;28;01mNone\u001b[39;00m \u001b[38;5;241m=\u001b[39m \u001b[38;5;28;01mTrue\u001b[39;00m) \u001b[38;5;241m-\u001b[39m\u001b[38;5;241m>\u001b[39m NDFrameT:\n\u001b[0;32m   6260\u001b[0m \u001b[38;5;250m    \u001b[39m\u001b[38;5;124;03m\"\"\"\u001b[39;00m\n\u001b[0;32m   6261\u001b[0m \u001b[38;5;124;03m    Make a copy of this object's indices and data.\u001b[39;00m\n\u001b[0;32m   6262\u001b[0m \n\u001b[1;32m   (...)\u001b[0m\n\u001b[0;32m   6366\u001b[0m \u001b[38;5;124;03m    dtype: object\u001b[39;00m\n\u001b[0;32m   6367\u001b[0m \u001b[38;5;124;03m    \"\"\"\u001b[39;00m\n\u001b[1;32m-> 6368\u001b[0m     data \u001b[38;5;241m=\u001b[39m \u001b[38;5;28;43mself\u001b[39;49m\u001b[38;5;241;43m.\u001b[39;49m\u001b[43m_mgr\u001b[49m\u001b[38;5;241;43m.\u001b[39;49m\u001b[43mcopy\u001b[49m\u001b[43m(\u001b[49m\u001b[43mdeep\u001b[49m\u001b[38;5;241;43m=\u001b[39;49m\u001b[43mdeep\u001b[49m\u001b[43m)\u001b[49m\n\u001b[0;32m   6369\u001b[0m     \u001b[38;5;28mself\u001b[39m\u001b[38;5;241m.\u001b[39m_clear_item_cache()\n\u001b[0;32m   6370\u001b[0m     \u001b[38;5;28;01mreturn\u001b[39;00m \u001b[38;5;28mself\u001b[39m\u001b[38;5;241m.\u001b[39m_constructor(data)\u001b[38;5;241m.\u001b[39m__finalize__(\u001b[38;5;28mself\u001b[39m, method\u001b[38;5;241m=\u001b[39m\u001b[38;5;124m\"\u001b[39m\u001b[38;5;124mcopy\u001b[39m\u001b[38;5;124m\"\u001b[39m)\n",
      "File \u001b[1;32m~\\AppData\\Roaming\\Python\\Python310\\site-packages\\pandas\\core\\internals\\managers.py:649\u001b[0m, in \u001b[0;36mBaseBlockManager.copy\u001b[1;34m(self, deep)\u001b[0m\n\u001b[0;32m    646\u001b[0m \u001b[38;5;28;01melse\u001b[39;00m:\n\u001b[0;32m    647\u001b[0m     new_axes \u001b[38;5;241m=\u001b[39m \u001b[38;5;28mlist\u001b[39m(\u001b[38;5;28mself\u001b[39m\u001b[38;5;241m.\u001b[39maxes)\n\u001b[1;32m--> 649\u001b[0m res \u001b[38;5;241m=\u001b[39m \u001b[38;5;28;43mself\u001b[39;49m\u001b[38;5;241;43m.\u001b[39;49m\u001b[43mapply\u001b[49m\u001b[43m(\u001b[49m\u001b[38;5;124;43m\"\u001b[39;49m\u001b[38;5;124;43mcopy\u001b[39;49m\u001b[38;5;124;43m\"\u001b[39;49m\u001b[43m,\u001b[49m\u001b[43m \u001b[49m\u001b[43mdeep\u001b[49m\u001b[38;5;241;43m=\u001b[39;49m\u001b[43mdeep\u001b[49m\u001b[43m)\u001b[49m\n\u001b[0;32m    650\u001b[0m new_refs: \u001b[38;5;28mlist\u001b[39m[weakref\u001b[38;5;241m.\u001b[39mref \u001b[38;5;241m|\u001b[39m \u001b[38;5;28;01mNone\u001b[39;00m] \u001b[38;5;241m|\u001b[39m \u001b[38;5;28;01mNone\u001b[39;00m\n\u001b[0;32m    651\u001b[0m \u001b[38;5;28;01mif\u001b[39;00m deep:\n",
      "File \u001b[1;32m~\\AppData\\Roaming\\Python\\Python310\\site-packages\\pandas\\core\\internals\\managers.py:352\u001b[0m, in \u001b[0;36mBaseBlockManager.apply\u001b[1;34m(self, f, align_keys, ignore_failures, **kwargs)\u001b[0m\n\u001b[0;32m    350\u001b[0m         applied \u001b[38;5;241m=\u001b[39m b\u001b[38;5;241m.\u001b[39mapply(f, \u001b[38;5;241m*\u001b[39m\u001b[38;5;241m*\u001b[39mkwargs)\n\u001b[0;32m    351\u001b[0m     \u001b[38;5;28;01melse\u001b[39;00m:\n\u001b[1;32m--> 352\u001b[0m         applied \u001b[38;5;241m=\u001b[39m \u001b[38;5;28mgetattr\u001b[39m(b, f)(\u001b[38;5;241m*\u001b[39m\u001b[38;5;241m*\u001b[39mkwargs)\n\u001b[0;32m    353\u001b[0m \u001b[38;5;28;01mexcept\u001b[39;00m (\u001b[38;5;167;01mTypeError\u001b[39;00m, \u001b[38;5;167;01mNotImplementedError\u001b[39;00m):\n\u001b[0;32m    354\u001b[0m     \u001b[38;5;28;01mif\u001b[39;00m \u001b[38;5;129;01mnot\u001b[39;00m ignore_failures:\n",
      "File \u001b[1;32m~\\AppData\\Roaming\\Python\\Python310\\site-packages\\pandas\\core\\internals\\blocks.py:549\u001b[0m, in \u001b[0;36mBlock.copy\u001b[1;34m(self, deep)\u001b[0m\n\u001b[0;32m    547\u001b[0m values \u001b[38;5;241m=\u001b[39m \u001b[38;5;28mself\u001b[39m\u001b[38;5;241m.\u001b[39mvalues\n\u001b[0;32m    548\u001b[0m \u001b[38;5;28;01mif\u001b[39;00m deep:\n\u001b[1;32m--> 549\u001b[0m     values \u001b[38;5;241m=\u001b[39m \u001b[43mvalues\u001b[49m\u001b[38;5;241;43m.\u001b[39;49m\u001b[43mcopy\u001b[49m\u001b[43m(\u001b[49m\u001b[43m)\u001b[49m\n\u001b[0;32m    550\u001b[0m \u001b[38;5;28;01mreturn\u001b[39;00m \u001b[38;5;28mtype\u001b[39m(\u001b[38;5;28mself\u001b[39m)(values, placement\u001b[38;5;241m=\u001b[39m\u001b[38;5;28mself\u001b[39m\u001b[38;5;241m.\u001b[39m_mgr_locs, ndim\u001b[38;5;241m=\u001b[39m\u001b[38;5;28mself\u001b[39m\u001b[38;5;241m.\u001b[39mndim)\n",
      "\u001b[1;31mKeyboardInterrupt\u001b[0m: "
     ]
    }
   ],
   "source": [
    "all_available_providers = []\n",
    "\n",
    "for k in tqdm(range(len(payments))):\n",
    "    available_providers = get_available_providers(payments.iloc[k])\n",
    "\n",
    "    all_available_providers.append(available_providers)\n"
   ]
  },
  {
   "cell_type": "code",
   "execution_count": 12,
   "metadata": {},
   "outputs": [
    {
     "data": {
      "text/html": [
       "<div>\n",
       "<style scoped>\n",
       "    .dataframe tbody tr th:only-of-type {\n",
       "        vertical-align: middle;\n",
       "    }\n",
       "\n",
       "    .dataframe tbody tr th {\n",
       "        vertical-align: top;\n",
       "    }\n",
       "\n",
       "    .dataframe thead th {\n",
       "        text-align: right;\n",
       "    }\n",
       "</style>\n",
       "<table border=\"1\" class=\"dataframe\">\n",
       "  <thead>\n",
       "    <tr style=\"text-align: right;\">\n",
       "      <th></th>\n",
       "      <th>TIME</th>\n",
       "      <th>ID</th>\n",
       "      <th>CONVERSION</th>\n",
       "      <th>AVG_TIME</th>\n",
       "      <th>MIN_SUM</th>\n",
       "      <th>MAX_SUM</th>\n",
       "      <th>LIMIT_MIN</th>\n",
       "      <th>LIMIT_MAX</th>\n",
       "      <th>LIMIT_BY_CARD</th>\n",
       "      <th>COMMISSION</th>\n",
       "      <th>CURRENCY</th>\n",
       "    </tr>\n",
       "  </thead>\n",
       "  <tbody>\n",
       "    <tr>\n",
       "      <th>0</th>\n",
       "      <td>2024-11-24 21:00:00</td>\n",
       "      <td>0</td>\n",
       "      <td>0.50</td>\n",
       "      <td>18.0</td>\n",
       "      <td>700.0</td>\n",
       "      <td>5500.0</td>\n",
       "      <td>61000.0</td>\n",
       "      <td>12900000.0</td>\n",
       "      <td>-</td>\n",
       "      <td>0.035</td>\n",
       "      <td>UZS</td>\n",
       "    </tr>\n",
       "    <tr>\n",
       "      <th>1</th>\n",
       "      <td>2024-11-24 21:00:00</td>\n",
       "      <td>26</td>\n",
       "      <td>0.65</td>\n",
       "      <td>26.0</td>\n",
       "      <td>700.0</td>\n",
       "      <td>6000.0</td>\n",
       "      <td>31000.0</td>\n",
       "      <td>18600000.0</td>\n",
       "      <td>-</td>\n",
       "      <td>0.045</td>\n",
       "      <td>MYR</td>\n",
       "    </tr>\n",
       "    <tr>\n",
       "      <th>2</th>\n",
       "      <td>2024-11-24 21:00:00</td>\n",
       "      <td>27</td>\n",
       "      <td>0.75</td>\n",
       "      <td>18.0</td>\n",
       "      <td>100.0</td>\n",
       "      <td>4500.0</td>\n",
       "      <td>21000.0</td>\n",
       "      <td>5000000.0</td>\n",
       "      <td>-</td>\n",
       "      <td>0.040</td>\n",
       "      <td>MYR</td>\n",
       "    </tr>\n",
       "    <tr>\n",
       "      <th>3</th>\n",
       "      <td>2024-11-24 21:00:00</td>\n",
       "      <td>28</td>\n",
       "      <td>0.65</td>\n",
       "      <td>22.0</td>\n",
       "      <td>200.0</td>\n",
       "      <td>9000.0</td>\n",
       "      <td>61000.0</td>\n",
       "      <td>20900000.0</td>\n",
       "      <td>-</td>\n",
       "      <td>0.045</td>\n",
       "      <td>MYR</td>\n",
       "    </tr>\n",
       "    <tr>\n",
       "      <th>4</th>\n",
       "      <td>2024-11-24 21:00:00</td>\n",
       "      <td>29</td>\n",
       "      <td>0.65</td>\n",
       "      <td>14.0</td>\n",
       "      <td>100.0</td>\n",
       "      <td>9000.0</td>\n",
       "      <td>81000.0</td>\n",
       "      <td>14700000.0</td>\n",
       "      <td>-</td>\n",
       "      <td>0.030</td>\n",
       "      <td>USD</td>\n",
       "    </tr>\n",
       "    <tr>\n",
       "      <th>...</th>\n",
       "      <td>...</td>\n",
       "      <td>...</td>\n",
       "      <td>...</td>\n",
       "      <td>...</td>\n",
       "      <td>...</td>\n",
       "      <td>...</td>\n",
       "      <td>...</td>\n",
       "      <td>...</td>\n",
       "      <td>...</td>\n",
       "      <td>...</td>\n",
       "      <td>...</td>\n",
       "    </tr>\n",
       "    <tr>\n",
       "      <th>446</th>\n",
       "      <td>2024-11-25 21:00:00</td>\n",
       "      <td>2</td>\n",
       "      <td>0.55</td>\n",
       "      <td>8.0</td>\n",
       "      <td>800.0</td>\n",
       "      <td>8000.0</td>\n",
       "      <td>81000.0</td>\n",
       "      <td>16500000.0</td>\n",
       "      <td>-</td>\n",
       "      <td>0.027</td>\n",
       "      <td>RUB</td>\n",
       "    </tr>\n",
       "    <tr>\n",
       "      <th>447</th>\n",
       "      <td>2024-11-25 21:00:00</td>\n",
       "      <td>0</td>\n",
       "      <td>0.60</td>\n",
       "      <td>14.0</td>\n",
       "      <td>400.0</td>\n",
       "      <td>6500.0</td>\n",
       "      <td>1000.0</td>\n",
       "      <td>5000000.0</td>\n",
       "      <td>-</td>\n",
       "      <td>0.035</td>\n",
       "      <td>UZS</td>\n",
       "    </tr>\n",
       "    <tr>\n",
       "      <th>448</th>\n",
       "      <td>2024-11-25 21:00:00</td>\n",
       "      <td>38</td>\n",
       "      <td>0.50</td>\n",
       "      <td>24.0</td>\n",
       "      <td>800.0</td>\n",
       "      <td>4500.0</td>\n",
       "      <td>21000.0</td>\n",
       "      <td>32700000.0</td>\n",
       "      <td>-</td>\n",
       "      <td>0.035</td>\n",
       "      <td>GHS</td>\n",
       "    </tr>\n",
       "    <tr>\n",
       "      <th>449</th>\n",
       "      <td>2024-11-25 21:00:00</td>\n",
       "      <td>14</td>\n",
       "      <td>0.50</td>\n",
       "      <td>22.0</td>\n",
       "      <td>500.0</td>\n",
       "      <td>5000.0</td>\n",
       "      <td>1000.0</td>\n",
       "      <td>18900000.0</td>\n",
       "      <td>-</td>\n",
       "      <td>0.045</td>\n",
       "      <td>BRL</td>\n",
       "    </tr>\n",
       "    <tr>\n",
       "      <th>450</th>\n",
       "      <td>2024-11-25 21:00:00</td>\n",
       "      <td>44</td>\n",
       "      <td>0.75</td>\n",
       "      <td>12.0</td>\n",
       "      <td>800.0</td>\n",
       "      <td>8500.0</td>\n",
       "      <td>11000.0</td>\n",
       "      <td>36200000.0</td>\n",
       "      <td>-</td>\n",
       "      <td>0.040</td>\n",
       "      <td>PEN</td>\n",
       "    </tr>\n",
       "  </tbody>\n",
       "</table>\n",
       "<p>451 rows × 11 columns</p>\n",
       "</div>"
      ],
      "text/plain": [
       "                   TIME  ID  CONVERSION  AVG_TIME  MIN_SUM  MAX_SUM  \\\n",
       "0   2024-11-24 21:00:00   0        0.50      18.0    700.0   5500.0   \n",
       "1   2024-11-24 21:00:00  26        0.65      26.0    700.0   6000.0   \n",
       "2   2024-11-24 21:00:00  27        0.75      18.0    100.0   4500.0   \n",
       "3   2024-11-24 21:00:00  28        0.65      22.0    200.0   9000.0   \n",
       "4   2024-11-24 21:00:00  29        0.65      14.0    100.0   9000.0   \n",
       "..                  ...  ..         ...       ...      ...      ...   \n",
       "446 2024-11-25 21:00:00   2        0.55       8.0    800.0   8000.0   \n",
       "447 2024-11-25 21:00:00   0        0.60      14.0    400.0   6500.0   \n",
       "448 2024-11-25 21:00:00  38        0.50      24.0    800.0   4500.0   \n",
       "449 2024-11-25 21:00:00  14        0.50      22.0    500.0   5000.0   \n",
       "450 2024-11-25 21:00:00  44        0.75      12.0    800.0   8500.0   \n",
       "\n",
       "     LIMIT_MIN   LIMIT_MAX LIMIT_BY_CARD  COMMISSION CURRENCY  \n",
       "0      61000.0  12900000.0             -       0.035      UZS  \n",
       "1      31000.0  18600000.0             -       0.045      MYR  \n",
       "2      21000.0   5000000.0             -       0.040      MYR  \n",
       "3      61000.0  20900000.0             -       0.045      MYR  \n",
       "4      81000.0  14700000.0             -       0.030      USD  \n",
       "..         ...         ...           ...         ...      ...  \n",
       "446    81000.0  16500000.0             -       0.027      RUB  \n",
       "447     1000.0   5000000.0             -       0.035      UZS  \n",
       "448    21000.0  32700000.0             -       0.035      GHS  \n",
       "449     1000.0  18900000.0             -       0.045      BRL  \n",
       "450    11000.0  36200000.0             -       0.040      PEN  \n",
       "\n",
       "[451 rows x 11 columns]"
      ]
     },
     "execution_count": 12,
     "metadata": {},
     "output_type": "execute_result"
    }
   ],
   "source": [
    "providers\n"
   ]
  },
  {
   "cell_type": "code",
   "execution_count": 51,
   "metadata": {},
   "outputs": [],
   "source": [
    "from dataclasses import dataclass\n",
    "\n",
    "class Provider:\n",
    "\n",
    "    def __init__(self, id: int, commission: float, conversion: float, processing_time: float):\n",
    "        self.id = id\n",
    "        \n",
    "        self.commission = commission\n",
    "        self.conversion = conversion\n",
    "        self.processing_time = processing_time\n",
    "\n",
    "    def __repr__(self):\n",
    "        return f\"P{self.id}\"\n",
    "\n",
    "\n",
    "class Transaction:\n",
    "    providers = providers\n",
    "    query = \"query\"\n",
    "\n",
    "    def __init__(self, payment: pd.Series):\n",
    "        self.time = payment.eventTimeRes\n",
    "        self.amount = payment.amount\n",
    "        self.cur = payment.cur\n",
    "        self.payment = payment.payment\n",
    "        self.token = payment.cardToken\n",
    "        self.available_providers = self._get_available_providers()\n",
    "\n",
    "    def _get_available_providers(self) -> List[Provider]:\n",
    "\n",
    "        available_providers = providers[(self.time >= providers.TIME) &\n",
    "           (self.time <= (providers.TIME + timedelta(hours=1))) &\n",
    "            (self.amount >= providers.MIN_SUM) &\n",
    "            (self.amount <= providers.MAX_SUM)]\n",
    "    \n",
    "        if len(available_providers) > 0:\n",
    "            assert len(available_providers) == available_providers.ID.nunique()\n",
    "\n",
    "        available_providers = [Provider(provider.ID, provider.COMMISSION, provider.CONVERSION, provider.TIME) \n",
    "                               for _, provider in available_providers.iterrows()]\n",
    "\n",
    "        return available_providers\n",
    "\n",
    "class Log:\n",
    "\n",
    "    def __init__(self, transaction: Transaction, solution: List[Provider]):\n",
    "        self.transaction = transaction\n",
    "        self.solution = solution\n",
    "\n",
    "    def compute_metrics(self) -> List[float]:\n",
    "        \"\"\"\n",
    "        Подсчитывает метрики.\n",
    "        \"\"\"\n",
    "        raise NotImplementedError\n",
    "\n",
    "class Simulator:\n",
    "\n",
    "    def __init__(self):\n",
    "        self.providers: List[Provider] = None\n",
    "\n",
    "    def simulate(self, transactions_stream: pd.DataFrame, providers_stream: pd.DataFrame):        \n",
    "        self.initialize_providers()\n",
    "        \n",
    "        logs: List[Log] = []\n",
    "        for transaction in transactions_stream.iterrows():\n",
    "            #self.change_providers_states()\n",
    "            transaction = Transaction(transaction[1])\n",
    "            solution = self.optimize(transaction)\n",
    "\n",
    "            self.logs.append(\n",
    "                Log(\n",
    "                    transaction=transaction, solution=solution\n",
    "                )\n",
    "            )\n",
    "\n",
    "        return logs\n",
    "\n",
    "    def optimize(self, transaction: Transaction) -> List[Provider]:\n",
    "        \"\"\"\n",
    "        Возвращает упорядоченный набор провайдеров\n",
    "        \"\"\"\n",
    "        raise NotImplementedError\n",
    "    \n",
    "    def initialize_providers():\n",
    "        \"\"\"\n",
    "        Инициализирует список всех провайдеров в начальный момент времени.\n",
    "        \"\"\"\n",
    "        raise NotImplementedError\n",
    "\n",
    "    def change_providers_states():\n",
    "        \"\"\"\n",
    "        Возвращает текущее состояние провайдеров.\n",
    "        \"\"\"\n",
    "        raise NotImplementedError\n",
    "    \n",
    "    def get_available_providers(transaction: Transaction) -> List[Provider]:\n",
    "        \"\"\"\n",
    "        Возвращает возможные провайдеры для транзакции.\n",
    "        \"\"\"\n",
    "        raise NotImplementedError\n"
   ]
  },
  {
   "cell_type": "code",
   "execution_count": 52,
   "metadata": {},
   "outputs": [
    {
     "data": {
      "text/plain": [
       "700.0"
      ]
     },
     "execution_count": 52,
     "metadata": {},
     "output_type": "execute_result"
    }
   ],
   "source": [
    "payment[1]\n"
   ]
  },
  {
   "cell_type": "code",
   "execution_count": null,
   "metadata": {},
   "outputs": [],
   "source": [
    "for _, row in tr.available_providers.iterrows():\n",
    "    break\n"
   ]
  },
  {
   "cell_type": "code",
   "execution_count": 50,
   "metadata": {},
   "outputs": [
    {
     "data": {
      "text/plain": [
       "0.035"
      ]
     },
     "execution_count": 50,
     "metadata": {},
     "output_type": "execute_result"
    }
   ],
   "source": [
    "row.COMMISSION\n"
   ]
  },
  {
   "cell_type": "code",
   "execution_count": 53,
   "metadata": {},
   "outputs": [],
   "source": [
    "tr = Transaction(payment)\n"
   ]
  },
  {
   "cell_type": "code",
   "execution_count": 38,
   "metadata": {},
   "outputs": [],
   "source": [
    "for p in tr.available_providers.iterrows():\n",
    "    p[1]\n"
   ]
  },
  {
   "cell_type": "code",
   "execution_count": 39,
   "metadata": {},
   "outputs": [
    {
     "data": {
      "text/plain": [
       "TIME             2024-11-24 21:00:00\n",
       "ID                                21\n",
       "CONVERSION                       0.5\n",
       "AVG_TIME                        16.0\n",
       "MIN_SUM                        100.0\n",
       "MAX_SUM                       5000.0\n",
       "LIMIT_MIN                    91000.0\n",
       "LIMIT_MAX                 25100000.0\n",
       "LIMIT_BY_CARD                      -\n",
       "COMMISSION                      0.04\n",
       "CURRENCY                         JPY\n",
       "Name: 47, dtype: object"
      ]
     },
     "execution_count": 39,
     "metadata": {},
     "output_type": "execute_result"
    }
   ],
   "source": [
    "p[1]\n"
   ]
  },
  {
   "cell_type": "code",
   "execution_count": 30,
   "metadata": {},
   "outputs": [
    {
     "data": {
      "text/plain": [
       "39"
      ]
     },
     "execution_count": 30,
     "metadata": {},
     "output_type": "execute_result"
    }
   ],
   "source": [
    "tr.available_providers.ID.nunique()\n"
   ]
  },
  {
   "cell_type": "code",
   "execution_count": 12,
   "metadata": {},
   "outputs": [
    {
     "data": {
      "text/html": [
       "<div>\n",
       "<style scoped>\n",
       "    .dataframe tbody tr th:only-of-type {\n",
       "        vertical-align: middle;\n",
       "    }\n",
       "\n",
       "    .dataframe tbody tr th {\n",
       "        vertical-align: top;\n",
       "    }\n",
       "\n",
       "    .dataframe thead th {\n",
       "        text-align: right;\n",
       "    }\n",
       "</style>\n",
       "<table border=\"1\" class=\"dataframe\">\n",
       "  <thead>\n",
       "    <tr style=\"text-align: right;\">\n",
       "      <th></th>\n",
       "      <th>TIME</th>\n",
       "      <th>ID</th>\n",
       "      <th>CONVERSION</th>\n",
       "      <th>AVG_TIME</th>\n",
       "      <th>MIN_SUM</th>\n",
       "      <th>MAX_SUM</th>\n",
       "      <th>LIMIT_MIN</th>\n",
       "      <th>LIMIT_MAX</th>\n",
       "      <th>LIMIT_BY_CARD</th>\n",
       "      <th>COMMISSION</th>\n",
       "      <th>CURRENCY</th>\n",
       "    </tr>\n",
       "  </thead>\n",
       "  <tbody>\n",
       "    <tr>\n",
       "      <th>0</th>\n",
       "      <td>2024-11-24 21:00:00</td>\n",
       "      <td>0</td>\n",
       "      <td>0.50</td>\n",
       "      <td>18.0</td>\n",
       "      <td>700.0</td>\n",
       "      <td>5500.0</td>\n",
       "      <td>61000.0</td>\n",
       "      <td>12900000.0</td>\n",
       "      <td>-</td>\n",
       "      <td>0.035</td>\n",
       "      <td>UZS</td>\n",
       "    </tr>\n",
       "    <tr>\n",
       "      <th>1</th>\n",
       "      <td>2024-11-24 21:00:00</td>\n",
       "      <td>26</td>\n",
       "      <td>0.65</td>\n",
       "      <td>26.0</td>\n",
       "      <td>700.0</td>\n",
       "      <td>6000.0</td>\n",
       "      <td>31000.0</td>\n",
       "      <td>18600000.0</td>\n",
       "      <td>-</td>\n",
       "      <td>0.045</td>\n",
       "      <td>MYR</td>\n",
       "    </tr>\n",
       "    <tr>\n",
       "      <th>2</th>\n",
       "      <td>2024-11-24 21:00:00</td>\n",
       "      <td>27</td>\n",
       "      <td>0.75</td>\n",
       "      <td>18.0</td>\n",
       "      <td>100.0</td>\n",
       "      <td>4500.0</td>\n",
       "      <td>21000.0</td>\n",
       "      <td>5000000.0</td>\n",
       "      <td>-</td>\n",
       "      <td>0.040</td>\n",
       "      <td>MYR</td>\n",
       "    </tr>\n",
       "    <tr>\n",
       "      <th>3</th>\n",
       "      <td>2024-11-24 21:00:00</td>\n",
       "      <td>28</td>\n",
       "      <td>0.65</td>\n",
       "      <td>22.0</td>\n",
       "      <td>200.0</td>\n",
       "      <td>9000.0</td>\n",
       "      <td>61000.0</td>\n",
       "      <td>20900000.0</td>\n",
       "      <td>-</td>\n",
       "      <td>0.045</td>\n",
       "      <td>MYR</td>\n",
       "    </tr>\n",
       "    <tr>\n",
       "      <th>4</th>\n",
       "      <td>2024-11-24 21:00:00</td>\n",
       "      <td>29</td>\n",
       "      <td>0.65</td>\n",
       "      <td>14.0</td>\n",
       "      <td>100.0</td>\n",
       "      <td>9000.0</td>\n",
       "      <td>81000.0</td>\n",
       "      <td>14700000.0</td>\n",
       "      <td>-</td>\n",
       "      <td>0.030</td>\n",
       "      <td>USD</td>\n",
       "    </tr>\n",
       "    <tr>\n",
       "      <th>...</th>\n",
       "      <td>...</td>\n",
       "      <td>...</td>\n",
       "      <td>...</td>\n",
       "      <td>...</td>\n",
       "      <td>...</td>\n",
       "      <td>...</td>\n",
       "      <td>...</td>\n",
       "      <td>...</td>\n",
       "      <td>...</td>\n",
       "      <td>...</td>\n",
       "      <td>...</td>\n",
       "    </tr>\n",
       "    <tr>\n",
       "      <th>446</th>\n",
       "      <td>2024-11-25 21:00:00</td>\n",
       "      <td>2</td>\n",
       "      <td>0.55</td>\n",
       "      <td>8.0</td>\n",
       "      <td>800.0</td>\n",
       "      <td>8000.0</td>\n",
       "      <td>81000.0</td>\n",
       "      <td>16500000.0</td>\n",
       "      <td>-</td>\n",
       "      <td>0.027</td>\n",
       "      <td>RUB</td>\n",
       "    </tr>\n",
       "    <tr>\n",
       "      <th>447</th>\n",
       "      <td>2024-11-25 21:00:00</td>\n",
       "      <td>0</td>\n",
       "      <td>0.60</td>\n",
       "      <td>14.0</td>\n",
       "      <td>400.0</td>\n",
       "      <td>6500.0</td>\n",
       "      <td>1000.0</td>\n",
       "      <td>5000000.0</td>\n",
       "      <td>-</td>\n",
       "      <td>0.035</td>\n",
       "      <td>UZS</td>\n",
       "    </tr>\n",
       "    <tr>\n",
       "      <th>448</th>\n",
       "      <td>2024-11-25 21:00:00</td>\n",
       "      <td>38</td>\n",
       "      <td>0.50</td>\n",
       "      <td>24.0</td>\n",
       "      <td>800.0</td>\n",
       "      <td>4500.0</td>\n",
       "      <td>21000.0</td>\n",
       "      <td>32700000.0</td>\n",
       "      <td>-</td>\n",
       "      <td>0.035</td>\n",
       "      <td>GHS</td>\n",
       "    </tr>\n",
       "    <tr>\n",
       "      <th>449</th>\n",
       "      <td>2024-11-25 21:00:00</td>\n",
       "      <td>14</td>\n",
       "      <td>0.50</td>\n",
       "      <td>22.0</td>\n",
       "      <td>500.0</td>\n",
       "      <td>5000.0</td>\n",
       "      <td>1000.0</td>\n",
       "      <td>18900000.0</td>\n",
       "      <td>-</td>\n",
       "      <td>0.045</td>\n",
       "      <td>BRL</td>\n",
       "    </tr>\n",
       "    <tr>\n",
       "      <th>450</th>\n",
       "      <td>2024-11-25 21:00:00</td>\n",
       "      <td>44</td>\n",
       "      <td>0.75</td>\n",
       "      <td>12.0</td>\n",
       "      <td>800.0</td>\n",
       "      <td>8500.0</td>\n",
       "      <td>11000.0</td>\n",
       "      <td>36200000.0</td>\n",
       "      <td>-</td>\n",
       "      <td>0.040</td>\n",
       "      <td>PEN</td>\n",
       "    </tr>\n",
       "  </tbody>\n",
       "</table>\n",
       "<p>451 rows × 11 columns</p>\n",
       "</div>"
      ],
      "text/plain": [
       "                   TIME  ID  CONVERSION  AVG_TIME  MIN_SUM  MAX_SUM  \\\n",
       "0   2024-11-24 21:00:00   0        0.50      18.0    700.0   5500.0   \n",
       "1   2024-11-24 21:00:00  26        0.65      26.0    700.0   6000.0   \n",
       "2   2024-11-24 21:00:00  27        0.75      18.0    100.0   4500.0   \n",
       "3   2024-11-24 21:00:00  28        0.65      22.0    200.0   9000.0   \n",
       "4   2024-11-24 21:00:00  29        0.65      14.0    100.0   9000.0   \n",
       "..                  ...  ..         ...       ...      ...      ...   \n",
       "446 2024-11-25 21:00:00   2        0.55       8.0    800.0   8000.0   \n",
       "447 2024-11-25 21:00:00   0        0.60      14.0    400.0   6500.0   \n",
       "448 2024-11-25 21:00:00  38        0.50      24.0    800.0   4500.0   \n",
       "449 2024-11-25 21:00:00  14        0.50      22.0    500.0   5000.0   \n",
       "450 2024-11-25 21:00:00  44        0.75      12.0    800.0   8500.0   \n",
       "\n",
       "     LIMIT_MIN   LIMIT_MAX LIMIT_BY_CARD  COMMISSION CURRENCY  \n",
       "0      61000.0  12900000.0             -       0.035      UZS  \n",
       "1      31000.0  18600000.0             -       0.045      MYR  \n",
       "2      21000.0   5000000.0             -       0.040      MYR  \n",
       "3      61000.0  20900000.0             -       0.045      MYR  \n",
       "4      81000.0  14700000.0             -       0.030      USD  \n",
       "..         ...         ...           ...         ...      ...  \n",
       "446    81000.0  16500000.0             -       0.027      RUB  \n",
       "447     1000.0   5000000.0             -       0.035      UZS  \n",
       "448    21000.0  32700000.0             -       0.035      GHS  \n",
       "449     1000.0  18900000.0             -       0.045      BRL  \n",
       "450    11000.0  36200000.0             -       0.040      PEN  \n",
       "\n",
       "[451 rows x 11 columns]"
      ]
     },
     "execution_count": 12,
     "metadata": {},
     "output_type": "execute_result"
    }
   ],
   "source": [
    "providers\n"
   ]
  },
  {
   "cell_type": "code",
   "execution_count": 44,
   "metadata": {},
   "outputs": [],
   "source": [
    "lengths = list(map(len, all_available_providers))\n"
   ]
  },
  {
   "cell_type": "code",
   "execution_count": 102,
   "metadata": {},
   "outputs": [
    {
     "data": {
      "text/plain": [
       "[P29, P30, P31, P32]"
      ]
     },
     "execution_count": 102,
     "metadata": {},
     "output_type": "execute_result"
    }
   ],
   "source": [
    "chain = all_available_providers[123021]\n",
    "chain\n"
   ]
  },
  {
   "cell_type": "code",
   "execution_count": 103,
   "metadata": {},
   "outputs": [],
   "source": [
    "values = []\n",
    "\n",
    "for permutation in itertools.permutations(chain, r=len(chain)):\n",
    "    permutation = list(permutation)\n",
    "\n",
    "    values.append(\n",
    "        (compute_expected_processing_time(permutation),\n",
    "         compute_expected_commission(permutation),\n",
    "         compute_expected_conversion(permutation))\n",
    "    )\n",
    "\n",
    "values = np.array(values)\n"
   ]
  },
  {
   "cell_type": "code",
   "execution_count": 14,
   "metadata": {},
   "outputs": [],
   "source": [
    "for provider in providers.iterrows():\n",
    "    break\n"
   ]
  },
  {
   "cell_type": "code",
   "execution_count": 17,
   "metadata": {},
   "outputs": [
    {
     "data": {
      "text/plain": [
       "TIME             2024-11-24 21:00:00\n",
       "ID                                 0\n",
       "CONVERSION                       0.5\n",
       "AVG_TIME                        18.0\n",
       "MIN_SUM                        700.0\n",
       "MAX_SUM                       5500.0\n",
       "LIMIT_MIN                    61000.0\n",
       "LIMIT_MAX                 12900000.0\n",
       "LIMIT_BY_CARD                      -\n",
       "COMMISSION                     0.035\n",
       "CURRENCY                         UZS\n",
       "Name: 0, dtype: object"
      ]
     },
     "execution_count": 17,
     "metadata": {},
     "output_type": "execute_result"
    }
   ],
   "source": [
    "provider[1]\n"
   ]
  },
  {
   "cell_type": "code",
   "execution_count": 105,
   "metadata": {},
   "outputs": [
    {
     "data": {
      "text/plain": [
       "(20, 4)"
      ]
     },
     "execution_count": 105,
     "metadata": {},
     "output_type": "execute_result"
    }
   ],
   "source": [
    "values[:, 0].argmin(), values[:, 1].argmin()\n"
   ]
  },
  {
   "cell_type": "code",
   "execution_count": null,
   "metadata": {},
   "outputs": [],
   "source": [
    "trans, [providers]\n",
    "tran.time, min.max -> [final_providers]\n"
   ]
  },
  {
   "cell_type": "code",
   "execution_count": 113,
   "metadata": {},
   "outputs": [
    {
     "data": {
      "text/plain": [
       "(P29, P32, P30, P31)"
      ]
     },
     "execution_count": 113,
     "metadata": {},
     "output_type": "execute_result"
    }
   ],
   "source": [
    "optimal_chain = list(itertools.permutations(chain, r=len(chain)))[4]\n",
    "optimal_chain\n"
   ]
  },
  {
   "cell_type": "code",
   "execution_count": 118,
   "metadata": {},
   "outputs": [
    {
     "data": {
      "text/plain": [
       "18.0"
      ]
     },
     "execution_count": 118,
     "metadata": {},
     "output_type": "execute_result"
    }
   ],
   "source": [
    "optimal_chain[0].processing_time\n"
   ]
  },
  {
   "cell_type": "code",
   "execution_count": 119,
   "metadata": {},
   "outputs": [
    {
     "data": {
      "text/plain": [
       "14.0"
      ]
     },
     "execution_count": 119,
     "metadata": {},
     "output_type": "execute_result"
    }
   ],
   "source": [
    "optimal_chain[1].processing_time\n"
   ]
  },
  {
   "cell_type": "code",
   "execution_count": 120,
   "metadata": {},
   "outputs": [
    {
     "data": {
      "text/plain": [
       "16.0"
      ]
     },
     "execution_count": 120,
     "metadata": {},
     "output_type": "execute_result"
    }
   ],
   "source": [
    "optimal_chain[2].processing_time\n"
   ]
  },
  {
   "cell_type": "code",
   "execution_count": 121,
   "metadata": {},
   "outputs": [
    {
     "data": {
      "text/plain": [
       "26.0"
      ]
     },
     "execution_count": 121,
     "metadata": {},
     "output_type": "execute_result"
    }
   ],
   "source": [
    "optimal_chain[3].processing_time\n"
   ]
  },
  {
   "cell_type": "code",
   "execution_count": null,
   "metadata": {},
   "outputs": [],
   "source": []
  }
 ],
 "metadata": {
  "kernelspec": {
   "display_name": "base",
   "language": "python",
   "name": "python3"
  },
  "language_info": {
   "codemirror_mode": {
    "name": "ipython",
    "version": 3
   },
   "file_extension": ".py",
   "mimetype": "text/x-python",
   "name": "python",
   "nbconvert_exporter": "python",
   "pygments_lexer": "ipython3",
   "version": "3.10.9"
  }
 },
 "nbformat": 4,
 "nbformat_minor": 2
}
