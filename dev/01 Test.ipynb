{
 "cells": [
  {
   "cell_type": "code",
   "execution_count": 4,
   "metadata": {},
   "outputs": [],
   "source": [
    "import random\n",
    "import numpy as np\n",
    "import pandas as pd\n",
    "\n",
    "import matplotlib.pyplot as plt\n",
    "\n",
    "from typing import List\n",
    "from tqdm.notebook import tqdm"
   ]
  },
  {
   "cell_type": "code",
   "execution_count": 5,
   "metadata": {},
   "outputs": [],
   "source": [
    "class Provider:\n",
    "\n",
    "    def __init__(self, commission: float, conversion: float, processing_time: float):\n",
    "        self.commission = commission\n",
    "        self.conversion = conversion\n",
    "        self.processing_time = processing_time\n",
    "\n",
    "    def __repr__(self):\n",
    "        return f\"Коммисия: {self.commission}, Время обработки: {self.processing_time}, Конверсия: {self.conversion}\""
   ]
  },
  {
   "cell_type": "code",
   "execution_count": 6,
   "metadata": {},
   "outputs": [],
   "source": [
    "providers: List[Provider] = []\n",
    "\n",
    "for _, row in pd.read_csv(\"data/providers_1.csv\").drop_duplicates(subset=[\"ID\"]).iterrows():\n",
    "    providers.append(\n",
    "        Provider(\n",
    "            commission=row[\"COMMISSION\"],\n",
    "            conversion=row[\"CONVERSION\"],\n",
    "            processing_time=row[\"AVG_TIME\"]\n",
    "        )\n",
    "    )\n",
    "\n",
    "for _, row in pd.read_csv(\"data/providers_2.csv\").drop_duplicates(subset=[\"ID\"]).iterrows():\n",
    "    providers.append(\n",
    "        Provider(\n",
    "            commission=row[\"COMMISSION\"],\n",
    "            conversion=row[\"CONVERSION\"],\n",
    "            processing_time=row[\"AVG_TIME\"]\n",
    "        )\n",
    "    )"
   ]
  },
  {
   "cell_type": "code",
   "execution_count": 7,
   "metadata": {},
   "outputs": [],
   "source": [
    "def compute_expected_processing_time(chain: List[Provider]) -> float:\n",
    "    probas, values = [], []\n",
    "\n",
    "    for k in range(len(chain)):\n",
    "        multiplication = np.prod([1 - provider.conversion for provider in chain[:k]])\n",
    "\n",
    "        probas.append(multiplication * chain[k].conversion)\n",
    "\n",
    "        values.append(np.sum([provider.processing_time for provider in chain[:k + 1]]))\n",
    "\n",
    "    probas, values = np.array(probas), np.array(values)\n",
    "\n",
    "    return probas.dot(values)\n",
    "\n",
    "\n",
    "def compute_expected_conversion(chain: List[Provider]) -> float:\n",
    "    return 1 - np.prod([1 - provider.conversion for provider in chain])\n",
    "\n",
    "\n",
    "def compute_expected_commission(chain: List[Provider]) -> float:\n",
    "    probas, values = [], []\n",
    "\n",
    "    for k in range(len(chain)):\n",
    "        multiplication = np.prod([1 - provider.conversion for provider in chain[:k]])\n",
    "\n",
    "        probas.append(multiplication * chain[k].conversion)\n",
    "        values.append(chain[k].commission)\n",
    "\n",
    "    probas, values = np.array(probas), np.array(values)\n",
    "\n",
    "    return probas.dot(values)"
   ]
  },
  {
   "cell_type": "code",
   "execution_count": 8,
   "metadata": {},
   "outputs": [
    {
     "data": {
      "application/vnd.jupyter.widget-view+json": {
       "model_id": "99a5c65d16aa4335821b072aae738cca",
       "version_major": 2,
       "version_minor": 0
      },
      "text/plain": [
       "  0%|          | 0/87 [00:00<?, ?it/s]"
      ]
     },
     "metadata": {},
     "output_type": "display_data"
    }
   ],
   "source": [
    "CHAIN_LENGTHS = range(2, len(providers))\n",
    "N_EXPS = 1000\n",
    "SEED = 42\n",
    "\n",
    "#random.seed(SEED)\n",
    "\n",
    "average_expected_processing_time = []\n",
    "average_expected_commission = []\n",
    "average_expected_conversion = []\n",
    "\n",
    "for chain_length in tqdm(CHAIN_LENGTHS):\n",
    "    expected_processing_times = []\n",
    "    expected_commissions = []\n",
    "    expected_conversions = []\n",
    "    \n",
    "    for _ in range(N_EXPS):\n",
    "        chain = random.sample(population=providers, k=chain_length)\n",
    "        #chain = sorted(chain, key=lambda p: p.conversion, reverse=True)\n",
    "\n",
    "        expected_processing_times.append(compute_expected_processing_time(chain))\n",
    "        expected_commissions.append(compute_expected_commission(chain))\n",
    "        expected_conversions.append(compute_expected_conversion(chain))\n",
    "\n",
    "    average_expected_processing_time.append(np.mean(expected_processing_times))\n",
    "    average_expected_commission.append(np.mean(expected_commissions))\n",
    "    average_expected_conversion.append(np.mean(expected_conversions))"
   ]
  },
  {
   "cell_type": "code",
   "execution_count": 9,
   "metadata": {},
   "outputs": [
    {
     "data": {
      "text/plain": [
       "[<matplotlib.lines.Line2D at 0x2cb3bb4dfc0>]"
      ]
     },
     "execution_count": 9,
     "metadata": {},
     "output_type": "execute_result"
    },
    {
     "data": {
      "image/png": "[encoded data removed]",
      "text/plain": [
       "<Figure size 640x480 with 1 Axes>"
      ]
     },
     "metadata": {},
     "output_type": "display_data"
    }
   ],
   "source": [
    "plt.plot(average_expected_processing_time)"
   ]
  },
  {
   "cell_type": "code",
   "execution_count": null,
   "metadata": {},
   "outputs": [],
   "source": []
  }
 ],
 "metadata": {
  "kernelspec": {
   "display_name": "base",
   "language": "python",
   "name": "python3"
  },
  "language_info": {
   "codemirror_mode": {
    "name": "ipython",
    "version": 3
   },
   "file_extension": ".py",
   "mimetype": "text/x-python",
   "name": "python",
   "nbconvert_exporter": "python",
   "pygments_lexer": "ipython3",
   "version": "3.10.9"
  }
 },
 "nbformat": 4,
 "nbformat_minor": 2
}
