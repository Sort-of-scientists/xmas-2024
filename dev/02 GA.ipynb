{
 "cells": [
  {
   "cell_type": "code",
   "execution_count": 50,
   "metadata": {},
   "outputs": [],
   "source": [
    "import itertools\n",
    "import numpy as np\n",
    "import pandas as pd\n",
    "\n",
    "from typing import List\n",
    "from tqdm.notebook import tqdm"
   ]
  },
  {
   "cell_type": "code",
   "execution_count": 7,
   "metadata": {},
   "outputs": [],
   "source": [
    "class Provider:\n",
    "\n",
    "    def __init__(self, id: int, commission: float, conversion: float, processing_time: float):\n",
    "        self.id = id\n",
    "        \n",
    "        self.commission = commission\n",
    "        self.conversion = conversion\n",
    "        self.processing_time = processing_time\n",
    "\n",
    "    def __repr__(self):\n",
    "        return f\"P{self.id}\""
   ]
  },
  {
   "cell_type": "code",
   "execution_count": 95,
   "metadata": {},
   "outputs": [],
   "source": [
    "payments = pd.read_csv(\"data/payments_1.csv\")\n",
    "\n",
    "payments.eventTimeRes = pd.to_datetime(payments.eventTimeRes)\n",
    "payments = payments.sort_values(by=\"eventTimeRes\")\n",
    "\n",
    "\n",
    "providers = pd.read_csv(\"data/providers_1.csv\")\n",
    "providers.TIME = pd.to_datetime(providers.TIME)\n",
    "\n",
    "providers = providers.sort_values(by=\"TIME\")\n",
    "providers = providers.drop_duplicates(subset=[\"TIME\", \"ID\"], keep=\"last\")\n",
    "\n",
    "providers.index = range(len(providers))"
   ]
  },
  {
   "cell_type": "code",
   "execution_count": 10,
   "metadata": {},
   "outputs": [],
   "source": [
    "def get_available_providers(transaction: pd.Series) -> List[Provider]:\n",
    "    mask = (providers.CURRENCY == transaction[\"cur\"]) & \\\n",
    "           (transaction[\"amount\"] >= providers.MIN_SUM) & \\\n",
    "           (transaction[\"amount\"] <= providers.MAX_SUM)\n",
    "    \n",
    "    available_providers = providers.copy()[mask].drop_duplicates(\"ID\")\n",
    "    \n",
    "    providers_objects: List[Provider] = []\n",
    "    for k, row in available_providers.drop_duplicates(subset=[\"ID\"]).iterrows():\n",
    "       providers_objects.append(\n",
    "              Provider(\n",
    "              id=k + 1,\n",
    "              commission=row[\"COMMISSION\"],\n",
    "              conversion=row[\"CONVERSION\"],\n",
    "              processing_time=row[\"AVG_TIME\"]\n",
    "              )\n",
    "       )\n",
    "\n",
    "    return providers_objects"
   ]
  },
  {
   "cell_type": "code",
   "execution_count": 11,
   "metadata": {},
   "outputs": [],
   "source": [
    "def compute_expected_processing_time(chain: List[Provider]) -> float:\n",
    "    probas, values = [], []\n",
    "\n",
    "    for k in range(len(chain)):\n",
    "        multiplication = np.prod([1 - provider.conversion for provider in chain[:k]])\n",
    "\n",
    "        probas.append(multiplication * chain[k].conversion)\n",
    "\n",
    "        values.append(np.sum([provider.processing_time for provider in chain[:k + 1]]))\n",
    "\n",
    "    probas, values = np.array(probas), np.array(values)\n",
    "\n",
    "    return probas.dot(values)\n",
    "\n",
    "\n",
    "def compute_expected_conversion(chain: List[Provider]) -> float:\n",
    "    return 1 - np.prod([1 - provider.conversion for provider in chain])\n",
    "\n",
    "\n",
    "def compute_expected_commission(chain: List[Provider]) -> float:\n",
    "    probas, values = [], []\n",
    "\n",
    "    for k in range(len(chain)):\n",
    "        multiplication = np.prod([1 - provider.conversion for provider in chain[:k]])\n",
    "\n",
    "        probas.append(multiplication * chain[k].conversion)\n",
    "        values.append(chain[k].commission)\n",
    "\n",
    "    probas, values = np.array(probas), np.array(values)\n",
    "\n",
    "    return probas.dot(values)"
   ]
  },
  {
   "cell_type": "code",
   "execution_count": 43,
   "metadata": {},
   "outputs": [
    {
     "data": {
      "application/vnd.jupyter.widget-view+json": {
       "model_id": "bc9790b03d564ebca0ccc8c746ac0082",
       "version_major": 2,
       "version_minor": 0
      },
      "text/plain": [
       "  0%|          | 0/193978 [00:00<?, ?it/s]"
      ]
     },
     "metadata": {},
     "output_type": "display_data"
    }
   ],
   "source": [
    "all_available_providers = []\n",
    "\n",
    "for k in tqdm(range(len(payments))):\n",
    "    available_providers = get_available_providers(payments.iloc[k])\n",
    "\n",
    "    all_available_providers.append(available_providers)"
   ]
  },
  {
   "cell_type": "code",
   "execution_count": 129,
   "metadata": {},
   "outputs": [],
   "source": [
    "unique_providers_ids = set()\n",
    "unique_providers = []\n",
    "\n",
    "for provider_list in all_available_providers:\n",
    "    for provider in provider_list:\n",
    "        if provider.id not in unique_providers_ids:\n",
    "            unique_providers.append(provider)\n",
    "            unique_providers_ids.add(provider.id)"
   ]
  },
  {
   "cell_type": "code",
   "execution_count": 122,
   "metadata": {},
   "outputs": [
    {
     "data": {
      "text/plain": [
       "[P29, P30, P31, P32]"
      ]
     },
     "execution_count": 122,
     "metadata": {},
     "output_type": "execute_result"
    }
   ],
   "source": [
    "chain = all_available_providers[123021]\n",
    "chain"
   ]
  },
  {
   "cell_type": "code",
   "execution_count": 103,
   "metadata": {},
   "outputs": [],
   "source": [
    "values = []\n",
    "\n",
    "for permutation in itertools.permutations(chain, r=len(chain)):\n",
    "    permutation = list(permutation)\n",
    "\n",
    "    values.append(\n",
    "        (compute_expected_processing_time(permutation),\n",
    "         compute_expected_commission(permutation),\n",
    "         compute_expected_conversion(permutation))\n",
    "    )\n",
    "\n",
    "values = np.array(values)"
   ]
  },
  {
   "cell_type": "code",
   "execution_count": 133,
   "metadata": {},
   "outputs": [
    {
     "data": {
      "text/plain": [
       "[P32, P31, P30, P29]"
      ]
     },
     "execution_count": 133,
     "metadata": {},
     "output_type": "execute_result"
    }
   ],
   "source": [
    "permutation"
   ]
  },
  {
   "cell_type": "code",
   "execution_count": 105,
   "metadata": {},
   "outputs": [
    {
     "data": {
      "text/plain": [
       "(20, 4)"
      ]
     },
     "execution_count": 105,
     "metadata": {},
     "output_type": "execute_result"
    }
   ],
   "source": [
    "values[:, 0].argmin(), values[:, 1].argmin()"
   ]
  },
  {
   "cell_type": "code",
   "execution_count": 113,
   "metadata": {},
   "outputs": [
    {
     "data": {
      "text/plain": [
       "(P29, P32, P30, P31)"
      ]
     },
     "execution_count": 113,
     "metadata": {},
     "output_type": "execute_result"
    }
   ],
   "source": [
    "optimal_chain = list(itertools.permutations(chain, r=len(chain)))[4]\n",
    "optimal_chain"
   ]
  },
  {
   "cell_type": "code",
   "execution_count": 118,
   "metadata": {},
   "outputs": [
    {
     "data": {
      "text/plain": [
       "18.0"
      ]
     },
     "execution_count": 118,
     "metadata": {},
     "output_type": "execute_result"
    }
   ],
   "source": [
    "optimal_chain[0].processing_time"
   ]
  },
  {
   "cell_type": "code",
   "execution_count": 119,
   "metadata": {},
   "outputs": [
    {
     "data": {
      "text/plain": [
       "14.0"
      ]
     },
     "execution_count": 119,
     "metadata": {},
     "output_type": "execute_result"
    }
   ],
   "source": [
    "optimal_chain[1].processing_time"
   ]
  },
  {
   "cell_type": "code",
   "execution_count": 120,
   "metadata": {},
   "outputs": [
    {
     "data": {
      "text/plain": [
       "16.0"
      ]
     },
     "execution_count": 120,
     "metadata": {},
     "output_type": "execute_result"
    }
   ],
   "source": [
    "optimal_chain[2].processing_time"
   ]
  },
  {
   "cell_type": "code",
   "execution_count": 121,
   "metadata": {},
   "outputs": [
    {
     "data": {
      "text/plain": [
       "26.0"
      ]
     },
     "execution_count": 121,
     "metadata": {},
     "output_type": "execute_result"
    }
   ],
   "source": [
    "optimal_chain[3].processing_time"
   ]
  },
  {
   "cell_type": "code",
   "execution_count": null,
   "metadata": {},
   "outputs": [],
   "source": []
  }
 ],
 "metadata": {
  "kernelspec": {
   "display_name": "Python 3",
   "language": "python",
   "name": "python3"
  },
  "language_info": {
   "codemirror_mode": {
    "name": "ipython",
    "version": 3
   },
   "file_extension": ".py",
   "mimetype": "text/x-python",
   "name": "python",
   "nbconvert_exporter": "python",
   "pygments_lexer": "ipython3",
   "version": "3.10.2"
  }
 },
 "nbformat": 4,
 "nbformat_minor": 2
}
